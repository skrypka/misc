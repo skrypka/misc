{
 "cells": [
  {
   "cell_type": "code",
   "execution_count": 1,
   "metadata": {},
   "outputs": [],
   "source": [
    "%load_ext autoreload\n",
    "%autoreload 2\n",
    "%matplotlib inline\n",
    "\n",
    "import pystan\n",
    "import pandas as pd\n",
    "import numpy as np\n",
    "from scipy.stats import beta\n",
    "import matplotlib.pyplot as plt\n",
    "import seaborn as sns"
   ]
  },
  {
   "cell_type": "code",
   "execution_count": 2,
   "metadata": {},
   "outputs": [],
   "source": [
    "true_mu1 = 2\n",
    "true_mu2 = 7\n",
    "true_sigma1 = 3\n",
    "true_sigma2 = 1"
   ]
  },
  {
   "cell_type": "code",
   "execution_count": 3,
   "metadata": {},
   "outputs": [],
   "source": [
    "samples1 = np.random.normal(true_mu1, true_sigma1, 100)\n",
    "samples2 = np.random.normal(true_mu2, true_sigma2, 100)\n",
    "samples_all = np.hstack((samples1, samples2))"
   ]
  },
  {
   "cell_type": "code",
   "execution_count": 4,
   "metadata": {},
   "outputs": [
    {
     "data": {
      "text/plain": [
       "<matplotlib.axes._subplots.AxesSubplot at 0x1a10ffab00>"
      ]
     },
     "execution_count": 4,
     "metadata": {},
     "output_type": "execute_result"
    },
    {
     "data": {
      "image/png": "[encoded data removed]",
      "text/plain": [
       "<matplotlib.figure.Figure at 0x10a814978>"
      ]
     },
     "metadata": {},
     "output_type": "display_data"
    }
   ],
   "source": [
    "sns.kdeplot(samples1)\n",
    "sns.kdeplot(samples2)\n",
    "sns.distplot(samples_all, bins=30)"
   ]
  },
  {
   "cell_type": "code",
   "execution_count": 5,
   "metadata": {},
   "outputs": [
    {
     "data": {
      "text/plain": [
       "(4.24135560833661, -5.909896654272848, 10.280984405228248, 3.4990714680910138)"
      ]
     },
     "execution_count": 5,
     "metadata": {},
     "output_type": "execute_result"
    }
   ],
   "source": [
    "# get some stats for all data to use later in model as boundaries\n",
    "np.mean(samples_all), np.min(samples_all), np.max(samples_all), np.std(samples_all)"
   ]
  },
  {
   "cell_type": "markdown",
   "metadata": {},
   "source": [
    "Gaussian Mixture model:\n",
    "\n",
    "$$\n",
    "\\\n",
    "p(y \\, | \\, \\theta, \\mu, \\sigma)\n",
    "= \\prod_{n=1}^N (\\theta \\times {Normal}(y_n \\, | \\, \\mu_1, \\sigma_1)\n",
    "                 + (1 - \\theta) \\times {Normal}(y_n \\, | \\, \\mu_2, \\sigma_2).\n",
    "\\\n",
    "$$"
   ]
  },
  {
   "cell_type": "code",
   "execution_count": 6,
   "metadata": {},
   "outputs": [],
   "source": [
    "model_string = \"\"\"\n",
    "data {\n",
    "  int<lower=1> N;               // number of data points\n",
    "  real y[N];                    // observations\n",
    "  real<lower=0,upper=1> theta;  // mixing proportion\n",
    "}\n",
    "\n",
    "parameters {\n",
    "  ordered[2] mu;                // locations of mixture components\n",
    "  vector<lower=0>[2] sigma;     // scales of mixture components\n",
    "}\n",
    "\n",
    "model {\n",
    "  mu ~ normal(3, 5);\n",
    "  sigma ~ uniform(0, 5);\n",
    "\n",
    "  for (n in 1:N) {\n",
    "     target += log_mix(theta,\n",
    "                       normal_lpdf(y[n] | mu[1], sigma[1]),\n",
    "                       normal_lpdf(y[n] | mu[2], sigma[2]));\n",
    "  }\n",
    "    \n",
    "}\n",
    "\n",
    "generated quantities {\n",
    "}\n",
    "\"\"\""
   ]
  },
  {
   "cell_type": "code",
   "execution_count": 7,
   "metadata": {},
   "outputs": [
    {
     "name": "stderr",
     "output_type": "stream",
     "text": [
      "INFO:pystan:COMPILING THE C++ CODE FOR MODEL anon_model_0394fbbc84aee09d9eb3996873b970cd NOW.\n",
      "/Users/roman/anaconda3/lib/python3.6/site-packages/pystan/misc.py:399: FutureWarning: Conversion of the second argument of issubdtype from `float` to `np.floating` is deprecated. In future, it will be treated as `np.float64 == np.dtype(float).type`.\n",
      "  elif np.issubdtype(np.asarray(v).dtype, float):\n"
     ]
    },
    {
     "data": {
      "text/plain": [
       "Inference for Stan model: anon_model_0394fbbc84aee09d9eb3996873b970cd.\n",
       "4 chains, each with iter=2000; warmup=1000; thin=1; \n",
       "post-warmup draws per chain=1000, total post-warmup draws=4000.\n",
       "\n",
       "           mean se_mean     sd   2.5%    25%    50%    75%  97.5%  n_eff   Rhat\n",
       "mu[0]      1.75  9.3e-3   0.39   0.99   1.48   1.74   2.01   2.55   1779    1.0\n",
       "mu[1]      6.97  2.7e-3   0.17   6.63   6.87   6.98   7.08   7.29   3762    1.0\n",
       "sigma[0]   3.05  6.1e-3   0.28   2.53   2.85   3.04   3.23   3.62   2100    1.0\n",
       "sigma[1]   1.22  2.9e-3   0.15   0.97   1.12   1.21   1.31   1.54   2583    1.0\n",
       "lp__     -507.2    0.04   1.46 -511.0 -508.0 -506.9 -506.2 -505.4   1069    1.0\n",
       "\n",
       "Samples were drawn using NUTS at Thu Jun 14 20:14:25 2018.\n",
       "For each parameter, n_eff is a crude measure of effective sample size,\n",
       "and Rhat is the potential scale reduction factor on split chains (at \n",
       "convergence, Rhat=1)."
      ]
     },
     "execution_count": 7,
     "metadata": {},
     "output_type": "execute_result"
    }
   ],
   "source": [
    "data_list = {\n",
    "    'N': samples_all.shape[0],\n",
    "    'y': samples_all,\n",
    "    'theta': 0.5,\n",
    "}\n",
    "stan_samples = pystan.stan(model_code=model_string, data=data_list)\n",
    "stan_samples"
   ]
  },
  {
   "cell_type": "code",
   "execution_count": 8,
   "metadata": {},
   "outputs": [
    {
     "data": {
      "image/png": "[encoded data removed]",
      "text/plain": [
       "<matplotlib.figure.Figure at 0x10a814358>"
      ]
     },
     "metadata": {},
     "output_type": "display_data"
    }
   ],
   "source": [
    "stan_samples.plot();"
   ]
  },
  {
   "cell_type": "code",
   "execution_count": 9,
   "metadata": {},
   "outputs": [],
   "source": [
    "posterior_samples = stan_samples.extract()"
   ]
  },
  {
   "cell_type": "code",
   "execution_count": 10,
   "metadata": {},
   "outputs": [
    {
     "data": {
      "text/html": [
       "<div>\n",
       "<style scoped>\n",
       "    .dataframe tbody tr th:only-of-type {\n",
       "        vertical-align: middle;\n",
       "    }\n",
       "\n",
       "    .dataframe tbody tr th {\n",
       "        vertical-align: top;\n",
       "    }\n",
       "\n",
       "    .dataframe thead th {\n",
       "        text-align: right;\n",
       "    }\n",
       "</style>\n",
       "<table border=\"1\" class=\"dataframe\">\n",
       "  <thead>\n",
       "    <tr style=\"text-align: right;\">\n",
       "      <th></th>\n",
       "      <th>mu1</th>\n",
       "      <th>mu2</th>\n",
       "      <th>sigma1</th>\n",
       "      <th>sigma2</th>\n",
       "    </tr>\n",
       "  </thead>\n",
       "  <tbody>\n",
       "    <tr>\n",
       "      <th>0</th>\n",
       "      <td>1.013404</td>\n",
       "      <td>6.779220</td>\n",
       "      <td>2.541711</td>\n",
       "      <td>1.251340</td>\n",
       "    </tr>\n",
       "    <tr>\n",
       "      <th>1</th>\n",
       "      <td>2.314326</td>\n",
       "      <td>6.801150</td>\n",
       "      <td>3.742343</td>\n",
       "      <td>1.013640</td>\n",
       "    </tr>\n",
       "    <tr>\n",
       "      <th>2</th>\n",
       "      <td>2.061231</td>\n",
       "      <td>6.930593</td>\n",
       "      <td>3.100479</td>\n",
       "      <td>1.254285</td>\n",
       "    </tr>\n",
       "    <tr>\n",
       "      <th>3</th>\n",
       "      <td>2.280183</td>\n",
       "      <td>7.025995</td>\n",
       "      <td>3.075088</td>\n",
       "      <td>0.970887</td>\n",
       "    </tr>\n",
       "    <tr>\n",
       "      <th>4</th>\n",
       "      <td>1.547966</td>\n",
       "      <td>7.105406</td>\n",
       "      <td>3.144782</td>\n",
       "      <td>1.296761</td>\n",
       "    </tr>\n",
       "  </tbody>\n",
       "</table>\n",
       "</div>"
      ],
      "text/plain": [
       "        mu1       mu2    sigma1    sigma2\n",
       "0  1.013404  6.779220  2.541711  1.251340\n",
       "1  2.314326  6.801150  3.742343  1.013640\n",
       "2  2.061231  6.930593  3.100479  1.254285\n",
       "3  2.280183  7.025995  3.075088  0.970887\n",
       "4  1.547966  7.105406  3.144782  1.296761"
      ]
     },
     "execution_count": 10,
     "metadata": {},
     "output_type": "execute_result"
    }
   ],
   "source": [
    "posterior = pd.DataFrame({\n",
    "    'mu1': posterior_samples['mu'][:,0],\n",
    "    'mu2': posterior_samples['mu'][:,1],\n",
    "    'sigma1': posterior_samples['sigma'][:,0],\n",
    "    'sigma2': posterior_samples['sigma'][:,1],\n",
    "})\n",
    "posterior.head()"
   ]
  },
  {
   "cell_type": "code",
   "execution_count": 11,
   "metadata": {},
   "outputs": [
    {
     "data": {
      "image/png": "[encoded data removed]",
      "text/plain": [
       "<matplotlib.figure.Figure at 0x1a1be34f28>"
      ]
     },
     "metadata": {},
     "output_type": "display_data"
    }
   ],
   "source": [
    "fig, (ax0, ax1) = plt.subplots(1,2, figsize=(20,7))\n",
    "ax0.hist(posterior['mu1'][:], 25, label=\"mu1\")\n",
    "ax0.axvline(true_mu1, color='k', linestyle='dashed', linewidth=1)\n",
    "ax0.hist(posterior['mu2'][:], 25, label=\"mu2\")\n",
    "ax0.axvline(true_mu2, color='k', linestyle='dashed', linewidth=1)\n",
    "ax0.legend(loc=\"upper center\")\n",
    "ax1.hist(posterior['sigma1'][:], 25, label=\"sigma1\")\n",
    "ax1.axvline(true_sigma1, color='k', linestyle='dashed', linewidth=1)\n",
    "ax1.hist(posterior['sigma2'][:], 25, label=\"sigma2\")\n",
    "ax1.axvline(true_sigma2, color='k', linestyle='dashed', linewidth=1)\n",
    "ax1.legend(loc=\"upper center\");"
   ]
  },
  {
   "cell_type": "code",
   "execution_count": 12,
   "metadata": {},
   "outputs": [
    {
     "data": {
      "text/plain": [
       "(1.7408646496749154, 6.979604584359456, 3.039211918551824, 1.2076153224391708)"
      ]
     },
     "execution_count": 12,
     "metadata": {},
     "output_type": "execute_result"
    }
   ],
   "source": [
    "posterior.mu1.median(), posterior.mu2.median(), posterior.sigma1.median(), posterior.sigma2.median()"
   ]
  },
  {
   "cell_type": "markdown",
   "metadata": {},
   "source": [
    "# Let's find MAP (maximum a posteriori probability)"
   ]
  },
  {
   "cell_type": "code",
   "execution_count": 15,
   "metadata": {},
   "outputs": [
    {
     "name": "stderr",
     "output_type": "stream",
     "text": [
      "INFO:pystan:COMPILING THE C++ CODE FOR MODEL anon_model_0394fbbc84aee09d9eb3996873b970cd NOW.\n",
      "/Users/roman/anaconda3/lib/python3.6/site-packages/pystan/misc.py:399: FutureWarning: Conversion of the second argument of issubdtype from `float` to `np.floating` is deprecated. In future, it will be treated as `np.float64 == np.dtype(float).type`.\n",
      "  elif np.issubdtype(np.asarray(v).dtype, float):\n"
     ]
    },
    {
     "data": {
      "text/plain": [
       "OrderedDict([('mu', array([1.73473664, 7.01437511])),\n",
       "             ('sigma', array([2.96674259, 1.17314198]))])"
      ]
     },
     "execution_count": 15,
     "metadata": {},
     "output_type": "execute_result"
    }
   ],
   "source": [
    "sm = pystan.StanModel(model_code=model_string)\n",
    "op = sm.optimizing(data=data_list)\n",
    "op"
   ]
  },
  {
   "cell_type": "code",
   "execution_count": 16,
   "metadata": {},
   "outputs": [
    {
     "name": "stdout",
     "output_type": "stream",
     "text": [
      "[7.01774843 1.74305983]\n",
      "[1.17955744 2.97168511]\n"
     ]
    }
   ],
   "source": [
    "# And you can always just fit_predict\n",
    "from sklearn.mixture import GaussianMixture\n",
    "gm = GaussianMixture(n_components=2)\n",
    "gm.fit(samples_all.reshape((-1, 1)))\n",
    "print(gm.means_.flatten())\n",
    "print(gm.covariances_.flatten()**0.5)"
   ]
  },
  {
   "cell_type": "markdown",
   "metadata": {},
   "source": [
    "To learn Bayesian I'd recommend start from 3 short videos \"Introduction to Bayesian data analysis\"\n",
    "https://www.youtube.com/watch?v=3OJEae7Qb_o\n",
    "and move to the book \"Statistical Rethinking\" https://xcelab.net/rm/statistical-rethinking/"
   ]
  }
 ],
 "metadata": {
  "kernelspec": {
   "display_name": "Python 3",
   "language": "python",
   "name": "python3"
  },
  "language_info": {
   "codemirror_mode": {
    "name": "ipython",
    "version": 3
   },
   "file_extension": ".py",
   "mimetype": "text/x-python",
   "name": "python",
   "nbconvert_exporter": "python",
   "pygments_lexer": "ipython3",
   "version": "3.6.4"
  }
 },
 "nbformat": 4,
 "nbformat_minor": 2
}
